{
  "nbformat": 4,
  "nbformat_minor": 0,
  "metadata": {
    "colab": {
      "name": "CBTA-basic.ipynb",
      "provenance": [],
      "include_colab_link": true
    },
    "kernelspec": {
      "name": "python3",
      "display_name": "Python 3"
    },
    "accelerator": "GPU"
  },
  "cells": [
    {
      "cell_type": "markdown",
      "metadata": {
        "id": "view-in-github",
        "colab_type": "text"
      },
      "source": [
        "<a href=\"https://colab.research.google.com/github/shayari21/100DaysOfML/blob/master/CBTA_basic.ipynb\" target=\"_parent\"><img src=\"https://colab.research.google.com/assets/colab-badge.svg\" alt=\"Open In Colab\"/></a>"
      ]
    },
    {
      "cell_type": "markdown",
      "metadata": {
        "id": "B0Gv39MkQ4gc",
        "colab_type": "text"
      },
      "source": [
        "This code is for two agent system involving one UAV and one Rover starting from a same starting point. "
      ]
    },
    {
      "cell_type": "code",
      "metadata": {
        "id": "B3HIkG_IizfO",
        "colab_type": "code",
        "outputId": "f250db67-101f-4c42-fecb-d0f17a98fea6",
        "colab": {
          "base_uri": "https://localhost:8080/",
          "height": 129
        }
      },
      "source": [
        "import numpy as np\n",
        "import pandas as pd\n",
        "\n",
        "task_dist=[10,40,20,20,10,50,20,30,10,10,20]\n",
        "task_dist_GR1=np.array([10,40,20,20,10,50,20,30,10,10,20])\n",
        "#task_dist_GR2= task_dist_GR1[::-1]\n",
        "task_dist_UAV1=np.array([70,0,0,0,100,0,40,0,110,110,0])\n",
        "#task_dist_UAV2=task_dist_UAV1[::-1]\n",
        "alt=[1600,1800]\n",
        "#print(task_dist_GR2)\n",
        "tasks= len(task_dist)\n",
        "k1=np.array( [1,0,0,0,1,0,1,0,1,1,0]) #capability matrix defines if the tasks defined can be completed by the UAVs or not\n",
        "k2= np.array(np.ones(11)) #capability matrix defines if the tasks defined can be completed by the GRs or not\n",
        "slope_LR=(np.array([1.5, -3, 3,4,-3,-2,1,3,-2,2,-3]))\n",
        "#print(slope_LR)\n",
        "slope_RL= slope_LR *-1\n",
        "#print(slope_RL)\n",
        "\n",
        "task_dist_f= np.c_[task_dist_GR1, task_dist_UAV1]\n",
        "#print(task_dist_f)\n",
        "#task_dist_d= pd.DataFrame[{'GR1':task_dist_GR1,'UAV1':task_dist_UAV1}]\n",
        "#print(task_dist_d)\n",
        "\n",
        "slope_LR_f=[]\n",
        "for i in slope_LR:\n",
        "  slope=i\n",
        "  #print(slope)\n",
        "  if(slope<0):\n",
        "    slope= ((slope*-1)/10)\n",
        "    slope_LR_f.append(slope)\n",
        "  elif (slope>0):\n",
        "    slope_LR_f.append(slope)\n",
        "  else:\n",
        "    slope=1\n",
        "    slope_LR_f.append(slope)\n",
        "\n",
        "#print(slope_LR_f)\n",
        "## AUCTION BID CALCULATION \n",
        "j=1\n",
        "#print(j)\n",
        "bid= np.zeros((11,2))\n",
        "for i in range(len(task_dist_f)):\n",
        "  for j in range(len(task_dist_f[i])):\n",
        "    if (j==1):  \n",
        "      bid[i][j]= slope_LR_f[i]*task_dist_f[i][j]\n",
        "      j=j+1   \n",
        "    else:\n",
        "      bid[i][j]= task_dist_f[i][j]*10\n",
        "print(bid)\n",
        " \n",
        "## SELECTING MOST ECONOMIC BID\n",
        "x=0\n",
        "l=[]\n",
        "best_bid=np.zeros(11)\n",
        "for i in range(len(bid)):\n",
        "  l=bid[i].sort()\n",
        "  length=len(l)\n",
        "  x=l[0]\n",
        "  if(x==0):\n",
        "    x=l[1]\n",
        " #print(x)\n",
        " best_bid[i]=x\n",
        "print(best_bid)"
      ],
      "execution_count": 1,
      "outputs": [
        {
          "output_type": "error",
          "ename": "IndentationError",
          "evalue": "ignored",
          "traceback": [
            "\u001b[0;36m  File \u001b[0;32m\"<ipython-input-1-885c3ce08086>\"\u001b[0;36m, line \u001b[0;32m62\u001b[0m\n\u001b[0;31m    best_bid[i]=x\u001b[0m\n\u001b[0m                 ^\u001b[0m\n\u001b[0;31mIndentationError\u001b[0m\u001b[0;31m:\u001b[0m unindent does not match any outer indentation level\n"
          ]
        }
      ]
    }
  ]
}