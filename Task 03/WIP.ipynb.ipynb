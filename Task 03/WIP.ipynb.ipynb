{
  "nbformat": 4,
  "nbformat_minor": 0,
  "metadata": {
    "kernelspec": {
      "name": "python3",
      "display_name": "Python 3"
    },
    "colab": {
      "name": "Task_3.ipynb",
      "provenance": [],
      "collapsed_sections": [],
      "include_colab_link": true
    },
    "language_info": {
      "name": "python"
    },
    "accelerator": "GPU"
  },
  "cells": [
    {
      "cell_type": "markdown",
      "metadata": {
        "id": "view-in-github",
        "colab_type": "text"
      },
      "source": [
        "<a href=\"https://colab.research.google.com/github/shayari21/100DaysOfML/blob/master/Task%2003/WIP.ipynb.ipynb\" target=\"_parent\"><img src=\"https://colab.research.google.com/assets/colab-badge.svg\" alt=\"Open In Colab\"/></a>"
      ]
    },
    {
      "cell_type": "markdown",
      "metadata": {
        "id": "qKo3S_fOsMim"
      },
      "source": [
        "# ML in Cybersecurity: Task 3\n",
        "\n",
        "## Team\n",
        "  * **Team name**: ESS\n",
        "  * **Members**: Eiram Mahera Sheikh (eish00001@stud.uni-saarland.de), Shravan Swaminathan(shsw00001@stud.uni-saarland.de), Shayari Bhattacharjee(shbh00002@stud.uni-saarland.de)\n",
        "\n",
        "\n",
        "## Logistics\n",
        "  * **Due date**: 9th December 2021, 23:59:59\n",
        "  * Email the completed notebook to: `mlcysec_ws2022_staff@lists.cispa.saarland`\n",
        "  * Complete this in **teams of 3**\n",
        "  * Feel free to use the forum to discuss.\n",
        "  \n",
        "## Timeline\n",
        "  * 26-Nov-2021: hand-out\n",
        "  * **09-Dec-2021**: Email completed notebook\n",
        "  \n",
        "  \n",
        "## About this Project\n",
        "In this project, you will explore an application of ML to a popular task in cybersecurity: malware classification.\n",
        "You will be presented with precomputed behaviour analysis reports of thousands of program binaries, many of which are malwares.\n",
        "Your goal is to train a malware detector using this behavioural reports.\n",
        "\n",
        "\n",
        "## A Note on Grading\n",
        "The grading for this project will depend on:\n",
        " 1. Vectorizing Inputs\n",
        "   * Obtaining a reasonable vectorized representations of the input data (a file containing a sequence of system calls)\n",
        "   * Understanding the influence these representations have on your model\n",
        " 1. Classification Model  \n",
        "   * Following a clear ML pipeline\n",
        "   * Obtaining reasonable performances (>60\\%) on held-out test set\n",
        "   * Choice of evaluation metric\n",
        "   * Visualizing loss/accuracy curves\n",
        " 1. Analysis\n",
        "   * Which methods (input representations/ML models) work better than the rest and why?\n",
        "   * Which hyper-parameters and design-choices were important in each of your methods?\n",
        "   * Quantifying influence of these hyper-parameters on loss and/or validation accuracies\n",
        "   * Trade-offs between methods, hyper-parameters, design-choices\n",
        "   * Anything else you find interesting (this part is open-ended)\n",
        "\n",
        "\n",
        "## Grading Details\n",
        " * 40 points: Vectorizing input data (each input = behaviour analysis file in our case)\n",
        " * 40 points: Training a classification model\n",
        " * 15 points: Analysis/Discussion\n",
        " * 5 points: Clean code\n",
        " \n",
        "## Filling-in the Notebook\n",
        "You'll be submitting this very notebook that is filled-in with your code and analysis. Make sure you submit one that has been previously executed in-order. (So that results/graphs are already visible upon opening it). \n",
        "\n",
        "The notebook you submit **should compile** (or should be self-contained and sufficiently commented). Check tutorial 1 on how to set up the Python3 environment.\n",
        "\n",
        "\n",
        "**The notebook is your project report. So, to make the report readable, omit code for techniques/models/things that did not work. You can use the final summary to provide a report about these.**\n",
        "\n",
        "It is extremely important that you **do not** re-order the existing sections. Apart from that, the code blocks that you need to fill-in are given by:\n",
        "```\n",
        "#\n",
        "#\n",
        "# ------- Your Code -------\n",
        "#\n",
        "#\n",
        "```\n",
        "Feel free to break this into multiple-cells. It's even better if you interleave explanations and code-blocks so that the entire notebook forms a readable \"story\".\n",
        "\n",
        "\n",
        "## Code of Honor\n",
        "We encourage discussing ideas and concepts with other students to help you learn and better understand the course content. However, the work you submit and present **must be original** and demonstrate your effort in solving the presented problems. **We will not tolerate** blatantly using existing solutions (such as from the internet), improper collaboration (e.g., sharing code or experimental data between groups) and plagiarism. If the honor code is not met, no points will be awarded.\n",
        "\n",
        " \n",
        " ## Versions\n",
        "  * v1.1: Updated deadline\n",
        "  * v1.0: Initial notebook\n",
        "  \n",
        "  ---"
      ]
    },
    {
      "cell_type": "code",
      "metadata": {
        "collapsed": true,
        "id": "uyCiLbXbsMiq"
      },
      "source": [
        "import time \n",
        " \n",
        "import numpy as np \n",
        "import matplotlib.pyplot as plt \n",
        "\n",
        "import json \n",
        "import time \n",
        "import pickle \n",
        "import sys \n",
        "import csv \n",
        "import os \n",
        "import os.path as osp \n",
        "import shutil \n",
        "import pathlib\n",
        "from pathlib import Path\n",
        "\n",
        "from IPython.display import display, HTML\n",
        " \n",
        "%matplotlib inline \n",
        "plt.rcParams['figure.figsize'] = (10.0, 8.0) # set default size of plots \n",
        "plt.rcParams['image.interpolation'] = 'nearest' \n",
        "plt.rcParams['image.cmap'] = 'gray' \n",
        " \n",
        "# for auto-reloading external modules \n",
        "# see http://stackoverflow.com/questions/1907993/autoreload-of-modules-in-ipython \n",
        "%load_ext autoreload\n",
        "%autoreload 2"
      ],
      "execution_count": 1,
      "outputs": []
    },
    {
      "cell_type": "code",
      "metadata": {
        "collapsed": true,
        "id": "7dHogdxRsMis"
      },
      "source": [
        "# Some suggestions of our libraries that might be helpful for this project\n",
        "from collections import Counter          # an even easier way to count\n",
        "from multiprocessing import Pool         # for multiprocessing\n",
        "from tqdm import tqdm                    # fancy progress bars\n",
        "\n",
        "# Load other libraries here.\n",
        "# Keep it minimal! We should be easily able to reproduce your code.\n",
        "\n",
        "# We preload pytorch as an example\n",
        "import torch\n",
        "import torch.nn as nn\n",
        "import torch.nn.functional as F\n",
        "import torch.optim as optim\n",
        "from torch.utils.data import DataLoader, Dataset, TensorDataset\n",
        "\n",
        "from keras.preprocessing.text import text_to_word_sequence\n",
        "from nltk import ngrams"
      ],
      "execution_count": 2,
      "outputs": []
    },
    {
      "cell_type": "markdown",
      "metadata": {
        "id": "oJWkh3GUsMit"
      },
      "source": [
        "# Setup\n",
        "\n",
        "  * Download the datasets: [train](https://nextcloud.mpi-klsb.mpg.de/index.php/s/pJrRGzm2So2PMZm) (128M) and [test](https://nextcloud.mpi-klsb.mpg.de/index.php/s/zN3yeWzQB3i5WqE) (92M)\n",
        "  * Unpack them under `./data/train` and `./data/test`\n",
        "  * Hint: you can execute shell scripts from notebooks using the `!` prefix, e.g., `! wget <url>`"
      ]
    },
    {
      "cell_type": "code",
      "metadata": {
        "id": "KlmVxND76Hgo",
        "colab": {
          "base_uri": "https://localhost:8080/"
        },
        "outputId": "dc3cf3b3-268e-420b-ace0-e0f1a6f38303"
      },
      "source": [
        "# We have stored the data on google drive for persistence.\n",
        "# Mount the drive\n",
        "\n",
        "from google.colab import drive\n",
        "drive.mount('/content/drive', force_remount=True)"
      ],
      "execution_count": 3,
      "outputs": [
        {
          "output_type": "stream",
          "name": "stdout",
          "text": [
            "Mounted at /content/drive\n"
          ]
        }
      ]
    },
    {
      "cell_type": "code",
      "metadata": {
        "id": "ezhb2E_RTq1O"
      },
      "source": [
        "train_path = \"drive/MyDrive/data/data/train\"\n",
        "test_path = \"drive/MyDrive/data/data/test\""
      ],
      "execution_count": 4,
      "outputs": []
    },
    {
      "cell_type": "code",
      "metadata": {
        "id": "wlhs4w44sMit",
        "colab": {
          "base_uri": "https://localhost:8080/"
        },
        "outputId": "5b4a7921-b673-4380-9368-a867b41dce78"
      },
      "source": [
        "# Check that you are prepared with the data\n",
        "! printf '# train examples (Should be 13682) : '; ls {train_path} | wc -l\n",
        "! printf '# test  examples (Should be 10000) : '; ls {test_path} | wc -l"
      ],
      "execution_count": 5,
      "outputs": [
        {
          "output_type": "stream",
          "name": "stdout",
          "text": [
            "# train examples (Should be 13682) : 13692\n",
            "# test  examples (Should be 10000) : 10020\n"
          ]
        }
      ]
    },
    {
      "cell_type": "markdown",
      "metadata": {
        "id": "Zh1-JHNIsMiv"
      },
      "source": [
        "Now that you're set, let's briefly look at the data you have been handed.\n",
        "Each file encodes the behavior report of a program (potentially a malware), using an encoding scheme called \"The Malware Instruction Set\" (MIST for short).\n",
        "At this point, we highly recommend you briefly read-up Sec. 2 of the [MIST](http://www.mlsec.org/malheur/docs/mist-tr.pdf) documentation.\n",
        "\n",
        "You will find each file named as `filename.<malwarename>`:\n",
        "```\n",
        "» ls data/train | head\n",
        "00005ecc06ae3e489042e979717bb1455f17ac9d.NothingFound\n",
        "0008e3d188483aeae0de62d8d3a1479bd63ed8c9.Basun\n",
        "000d2eea77ee037b7ef99586eb2f1433991baca9.Patched\n",
        "000d996fa8f3c83c1c5568687bb3883a543ec874.Basun\n",
        "0010f78d3ffee61101068a0722e09a98959a5f2c.Basun\n",
        "0013cd0a8febd88bfc4333e20486bd1a9816fcbf.Basun\n",
        "0014aca72eb88a7f20fce5a4e000c1f7fff4958a.Texel\n",
        "001ffc75f24a0ae63a7033a01b8152ba371f6154.Texel\n",
        "0022d6ba67d556b931e3ab26abcd7490393703c4.Basun\n",
        "0028c307a125cf0fdc97d7a1ffce118c6e560a70.Swizzor\n",
        "...\n",
        "```\n",
        "and within each file, you will see a sequence of individual systems calls monitored duing the run-time of the binary - a malware named 'Basun' in the case:\n",
        "```\n",
        "» head data/train/000d996fa8f3c83c1c5568687bb3883a543ec874.Basun\n",
        "# process 000006c8 0000066a 022c82f4 00000000 thread 0001 #\n",
        "02 01 | 000006c8 0000066a 00015000\n",
        "02 02 | 00006b2c 047c8042 000b9000\n",
        "02 02 | 00006b2c 047c8042 00108000\n",
        "02 02 | 00006b2c 047c8042 00153000\n",
        "02 02 | 00006b2c 047c8042 00091000\n",
        "02 02 | 00006b2c 047c8042 00049000\n",
        "02 02 | 00006b2c 047c8042 000aa000\n",
        "02 02 | 00006b2c 047c8042 00092000\n",
        "02 02 | 00006b2c 047c8042 00011000\n",
        "...\n",
        "```\n",
        "(**Note**: Please ignore the first line that begins with `# process ...`.)\n",
        "\n",
        "Your task in this project is to train a malware detector, which given the sequence of system calls (in the MIST-formatted file like above), predicts one of 10 classes: `{ Agent, Allaple, AutoIt, Basun, NothingFound, Patched, Swizzor, Texel, VB, Virut }`, where `NothingFound` roughly represents no malware is present.\n",
        "In terms of machine learning terminology, your malware detector $F: X \\rightarrow Y$ should learn a mapping from the MIST-encoded behaviour report (the input $x \\in X$) to the malware class $y \\in Y$.\n",
        "\n",
        "Consequently, you will primarily tackle two challenges in this project:\n",
        "  1. \"Vectorizing\" the input data i.e., representing each input (file) as a tensor\n",
        "  1. Training an ML model\n",
        "  \n",
        "\n",
        "### Some tips:\n",
        "  * Begin with an extremely simple representation/ML model and get above chance-level classification performance\n",
        "  * Choose your evaluation metric wisely\n",
        "  * Save intermediate computations (e.g., a token to index mapping). This will avoid you parsing the entire dataset for every experiment\n",
        "  * Try using `multiprocessing.Pool` to parallelize your `for` loops"
      ]
    },
    {
      "cell_type": "markdown",
      "metadata": {
        "id": "p8xloR8dsMiv"
      },
      "source": [
        "---"
      ]
    },
    {
      "cell_type": "markdown",
      "metadata": {
        "id": "vXnyDAdbsMiw"
      },
      "source": [
        "# 1. Vectorize Data"
      ]
    },
    {
      "cell_type": "markdown",
      "metadata": {
        "id": "Ia-xFIQtsMiw"
      },
      "source": [
        "## 1.a. Load Raw Data"
      ]
    },
    {
      "cell_type": "code",
      "metadata": {
        "collapsed": true,
        "id": "ZScY-C2IsMiw"
      },
      "source": [
        "def load_content(filepath):\n",
        "    '''Given a filepath, returns (content, classname), where content = [list of lines in file]'''\n",
        "    label = filepath.split('.')[-1]\n",
        "    \n",
        "    # open the file within a context manager and read all the lines\n",
        "    with open(filepath, \"r\") as fh:\n",
        "      lines = fh.readlines()\n",
        "    \n",
        "    return lines, label\n",
        "\n",
        "\n",
        "def load_data(data_path, nworkers=10):\n",
        "    '''Returns each data sample as a tuple (x, y), x = sequence of strings (i.e., syscalls), y = malware program class'''\n",
        "    raw_data_samples = []\n",
        "    \n",
        "    # get a list of all files in the training data\n",
        "    files = os.listdir(data_path)\n",
        "\n",
        "    # load the content of each file\n",
        "    for file in tqdm(files):\n",
        "        lines, label = load_content(os.path.join(data_path, file))\n",
        "        raw_data_samples.append((lines, label))\n",
        "\n",
        "        # remove these 2 lines for final execution on entire dataset\n",
        "        if len(raw_data_samples)==200:\n",
        "            break\n",
        "\n",
        "    return raw_data_samples"
      ],
      "execution_count": 6,
      "outputs": []
    },
    {
      "cell_type": "code",
      "metadata": {
        "scrolled": true,
        "id": "7BSUdq_-sMiw",
        "colab": {
          "base_uri": "https://localhost:8080/"
        },
        "outputId": "39f91286-a89b-4dc8-dec3-d5a96a3af20d"
      },
      "source": [
        "print('=> Loading training data ... ')\n",
        "train_raw_samples = load_data(Path(train_path))"
      ],
      "execution_count": 7,
      "outputs": [
        {
          "output_type": "stream",
          "name": "stdout",
          "text": [
            "=> Loading training data ... \n"
          ]
        },
        {
          "output_type": "stream",
          "name": "stderr",
          "text": [
            "  1%|▏         | 199/13692 [00:28<32:34,  6.91it/s]\n"
          ]
        }
      ]
    },
    {
      "cell_type": "code",
      "metadata": {
        "collapsed": true,
        "id": "GG6tcSNJsMiw",
        "colab": {
          "base_uri": "https://localhost:8080/"
        },
        "outputId": "02f2cb60-df72-4e1e-d397-620269771820"
      },
      "source": [
        "project_mode = 'trainval'    # trainval, traintest, debug\n",
        "np.random.seed(123)          # To perform the same split across multiple runs\n",
        "\n",
        "if project_mode == 'trainval':\n",
        "    # Split data into train and validation set\n",
        "    train_size = int(len(train_raw_samples) * 0.8)\n",
        "    np.random.shuffle(train_raw_samples)\n",
        "    train_raw_samples, test_raw_samples = train_raw_samples[:train_size], train_raw_samples[train_size:]\n",
        "\n",
        "elif project_mode == 'traintest':\n",
        "    # Load train and test data\n",
        "    test_raw_samples = load_data(Path(test_path))\n",
        "\n",
        "elif project_mode == 'debug':\n",
        "    np.random.shuffle(train_raw_samples)\n",
        "    train_raw_samples, test_raw_samples = train_raw_samples[:1000], train_raw_samples[1001:1250]\n",
        "\n",
        "else:\n",
        "    raise ValueError('Unrecognized mode')\n",
        "    \n",
        "print('=> # Train samples = ', len(train_raw_samples))\n",
        "print('=> # Test  samples = ', len(test_raw_samples))"
      ],
      "execution_count": 8,
      "outputs": [
        {
          "output_type": "stream",
          "name": "stdout",
          "text": [
            "=> # Train samples =  160\n",
            "=> # Test  samples =  40\n"
          ]
        }
      ]
    },
    {
      "cell_type": "markdown",
      "metadata": {
        "id": "GjiNiOVHsMiy"
      },
      "source": [
        "## 1.b. Vectorize: Setup\n",
        "\n",
        "Make one pass over the inputs to identify relevant features/tokens.\n",
        "\n",
        "Suggestion:\n",
        "  - identify tokens (e.g., unigrams, bigrams)\n",
        "  - create a token -> index (int) mapping. Note that you might have a >10K unique tokens. So, you will have to choose a suitable \"vocabulary\" size."
      ]
    },
    {
      "cell_type": "code",
      "metadata": {
        "collapsed": true,
        "id": "DAtmzL6PsMiy"
      },
      "source": [
        "class_to_idx = {\n",
        "    'Agent':0, \n",
        "    'Allaple':1, \n",
        "    'AutoIt':2, \n",
        "    'Basun':3, \n",
        "    'NothingFound':4, \n",
        "    'Patched':5, \n",
        "    'Swizzor':6, \n",
        "    'Texel':7, \n",
        "    'VB':8, \n",
        "    'Virut':9\n",
        "    }\n",
        "\n",
        "   \n",
        "def get_key_idx_map(counter, vocab_size, ukn_token='_ukn_'):\n",
        "    # counter is a mapping: token -> count\n",
        "    # build vectorizer using vocab_size most common elements\n",
        "    key_to_idx, idx_to_key = dict(), dict()\n",
        "    word_count = list(counter.most_common(vocab_size))\n",
        "    counter = 0\n",
        "    \n",
        "    for word, count in word_count:\n",
        "        key_to_idx[word] = counter\n",
        "        idx_to_key[counter] = word\n",
        "        counter += 1\n",
        "\n",
        "    return key_to_idx, idx_to_key\n",
        "\n",
        "\n",
        "def helper1_tokenize(raw_data):\n",
        "    tokenized_data = []\n",
        "    for content, label in raw_data:\n",
        "        tokens = []\n",
        "        for line in content[1: -1]:\n",
        "            tokens.extend(text_to_word_sequence(line))\n",
        "        tokenized_data.append(tokens)\n",
        "\n",
        "    return tokenized_data\n",
        "\n",
        "\n",
        "def helper2_ngrams(tokens, n):\n",
        "    n_grams = []\n",
        "    for token_set in tokens:\n",
        "        n_grams.append(list(ngrams(token_set, n)))\n",
        "\n",
        "    return n_grams\n",
        "\n",
        "\n",
        "def helper3_get_class_to_idx_map(raw_data):\n",
        "    labels_y = list()\n",
        "    for counter, labels in raw_data:\n",
        "        labels_y.append(class_to_idx[labels])\n",
        "\n",
        "    return np.array(labels_y)\n"
      ],
      "execution_count": 9,
      "outputs": []
    },
    {
      "cell_type": "code",
      "metadata": {
        "collapsed": true,
        "id": "LSMEAcgvsMiy"
      },
      "source": [
        "tokens = helper1_tokenize(train_raw_samples)\n",
        "\n",
        "#unigrams = helper2_ngrams(tokens, 1)\n",
        "bigrams = helper2_ngrams(tokens, 2)\n",
        "#trigrams = helper2_ngrams(tokens, 3)\n",
        "\n",
        "tokens = []\n",
        "\n",
        "MAX_VOCAB_SIZE = 300\n",
        "\n",
        "ngram_tokens = []\n",
        "for ngram_set in bigrams:\n",
        "    ngram_tokens.extend(ngram_set)\n",
        "\n",
        "token_to_idx, idx_to_token = get_key_idx_map(Counter(ngram_tokens), MAX_VOCAB_SIZE)\n",
        "ngram_tokens = []\n",
        "train_y = helper3_get_class_to_idx_map(train_raw_samples)\n",
        "test_y = helper3_get_class_to_idx_map(test_raw_samples)\n",
        "\n",
        "# Save vocab to file\n",
        "out_path = 'application_vocab_{}.pkl'.format(MAX_VOCAB_SIZE)\n",
        "with open(out_path, 'wb') as wf:\n",
        "    dct = {\n",
        "        'token_to_idx': token_to_idx,\n",
        "        'idx_to_token': idx_to_token\n",
        "        }\n",
        "    pickle.dump(dct, wf)\n",
        "\n"
      ],
      "execution_count": 10,
      "outputs": []
    },
    {
      "cell_type": "markdown",
      "metadata": {
        "id": "QUefzVjFsMiy"
      },
      "source": [
        "## 1.c. Vectorize Data\n",
        "\n",
        "Use the (token $\\rightarrow$ index) mapping you created before to vectorize your data"
      ]
    },
    {
      "cell_type": "code",
      "metadata": {
        "collapsed": true,
        "id": "ffJJ0XOvsMiz"
      },
      "source": [
        "def BinaryVectorizer(tokens):\n",
        "    vectorized = []\n",
        "\n",
        "    for token in tokens:\n",
        "        vector = np.zeros(MAX_VOCAB_SIZE)\n",
        "        for word in token:\n",
        "            if word in token_to_idx:\n",
        "                vector[token_to_idx[word]] = 1\n",
        "        vectorized.append(np.array(vector, dtype='float32'))\n",
        "\n",
        "    return np.array(vectorized, dtype='float32')\n",
        "\n",
        "\n",
        "def CountVectorizer(ngrams):\n",
        "    vectorized = []\n",
        "\n",
        "    for ng in ngrams:\n",
        "        vector = np.zeros(MAX_VOCAB_SIZE)\n",
        "        token_counter = dict(Counter(ng))\n",
        "        unique_tokens = list(token_counter.keys())\n",
        "        for token in unique_tokens:\n",
        "            if token in token_to_idx:\n",
        "                vector[token_to_idx[token]] = token_counter[token]\n",
        "        vectorized.append(np.array(vector, dtype='float32'))\n",
        "\n",
        "    return np.array(vectorized, dtype='float32')"
      ],
      "execution_count": 11,
      "outputs": []
    },
    {
      "cell_type": "code",
      "metadata": {
        "collapsed": true,
        "id": "CD5IqJmXsMiz"
      },
      "source": [
        "def vectorize_raw_samples(raw_samples, nworkers=10):\n",
        "    vectorized_samples = []\n",
        "    \n",
        "    tokens = helper1_tokenize(raw_samples)\n",
        "    ngram_data = helper2_ngrams(tokens, 2)\n",
        "    vectorized_samples = BinaryVectorizer(ngram_data)\n",
        "\n",
        "    return vectorized_samples"
      ],
      "execution_count": 12,
      "outputs": []
    },
    {
      "cell_type": "code",
      "metadata": {
        "collapsed": true,
        "scrolled": true,
        "id": "BtS10ASbsMi0",
        "colab": {
          "base_uri": "https://localhost:8080/"
        },
        "outputId": "1d66b835-bd55-4fc4-e520-5811342ace8c"
      },
      "source": [
        "print('=> Processing: Train')\n",
        "train_data = vectorize_raw_samples(train_raw_samples)\n",
        "print()\n",
        "print('=> Processing: Test')\n",
        "test_data = vectorize_raw_samples(test_raw_samples)"
      ],
      "execution_count": 13,
      "outputs": [
        {
          "output_type": "stream",
          "name": "stdout",
          "text": [
            "=> Processing: Train\n",
            "\n",
            "=> Processing: Test\n"
          ]
        }
      ]
    },
    {
      "cell_type": "code",
      "metadata": {
        "id": "LDtbwCthNM4V"
      },
      "source": [
        "train_x = torch.from_numpy(train_data).float()\n",
        "test_x = torch.from_numpy(test_data).float()\n",
        "\n",
        "train_y = torch.tensor(train_y, dtype=torch.long)\n",
        "test_y = torch.tensor(test_y, dtype=torch.long)\n",
        "\n",
        "trainset = TensorDataset(train_x, train_y)\n",
        "testset = TensorDataset(test_x, test_y)\n",
        "\n",
        "torch.save(trainset, 'trainset.pt')\n",
        "torch.save(testset, 'testset.pt')"
      ],
      "execution_count": 14,
      "outputs": []
    },
    {
      "cell_type": "markdown",
      "metadata": {
        "id": "_l0tLsEVsMi0"
      },
      "source": [
        "# 2. Train Model\n",
        "\n",
        "You will now train an ML model on the vectorized datasets you created previously.\n",
        "\n",
        "_Note_: Although we often refer to each input as a 'vector' for simplicity, each of your inputs can also be higher dimensional tensors."
      ]
    },
    {
      "cell_type": "markdown",
      "metadata": {
        "id": "UInY1YzksMi0"
      },
      "source": [
        "## 2.a. Helpers"
      ]
    },
    {
      "cell_type": "code",
      "metadata": {
        "collapsed": true,
        "id": "VnSv0J75sMi0"
      },
      "source": [
        "def evaluate_preds(y_true, y_predicted):\n",
        "    precision = {0:0,1:0,2:0,3:0,4:0,5:0,6:0,7:0,8:0,9:0}\n",
        "    recall = {0:0,1:0,2:0,3:0,4:0,5:0,6:0,7:0,8:0,9:0}\n",
        "    positive = {0:0,1:0,2:0,3:0,4:0,5:0,6:0,7:0,8:0,9:0}\n",
        "    true_positive = {0:0,1:0,2:0,3:0,4:0,5:0,6:0,7:0,8:0,9:0}\n",
        "    f1 = {0:0,1:0,2:0,3:0,4:0,5:0,6:0,7:0,8:0,9:0} \n",
        "    classes = {0:0,1:0,2:0,3:0,4:0,5:0,6:0,7:0,8:0,9:0}\n",
        "    \n",
        "    true_samples = generate_true_labels(y_true)\n",
        "    for out_idx in range(len(y_predicted)):\n",
        "        for inner_idx in range(len(y_predicted[out_idx])):\n",
        "            if y_predicted[out_idx][inner_idx] == y_true[out_idx][inner_idx]:\n",
        "                true_positive[y_predicted[out_idx][inner_idx]] += 1\n",
        "            positive[y_predicted[out_idx][inner_idx]] += 1\n",
        "            classes[y_predicted[out_idx][inner_idx]] += 1\n",
        "    \n",
        "    for key, vals in classes.items():\n",
        "        if positive[key] <= 0.0:\n",
        "            precision[key] = 0.0\n",
        "        else:\n",
        "            precision[key] = (true_positive[key]/positive[key]) * 100\n",
        "        if true_samples[key] <= 0.0:\n",
        "            recall[key] = 0.0\n",
        "        else:\n",
        "            recall[key] = (true_positive[key]/true_samples[key]) * 100\n",
        "    \n",
        "    for key, vals in classes.items():\n",
        "        if recall[key] <= 0.0:\n",
        "            f1_scores[key] = 0.0\n",
        "        else:\n",
        "            f1_scores[key] = 2*((precision[key]*recall[key])/(precision[key]+recall[key]))\n",
        "    return precision, recall, f1\n",
        "    pass\n",
        "\n",
        "\n",
        "def generate_true_labels(y_true):\n",
        "    true_labels = {0:0,1:0,2:0,3:0,4:0,5:0,6:0,7:0,8:0,9:0}\n",
        "    for labels in y_true:\n",
        "        for val in labels:\n",
        "            true_labels[val] += 1\n",
        "    return true_labels\n",
        "\n",
        "def visualize_evaluation(classes, precision, recall, f1):\n",
        "    data = {'Labels/Malwares': list(classes.keys()), 'Precision': list(precision.values()), 'Recall': list(recall.values()), 'F1 Score': list(f1.values())}\n",
        "    dataframe = pandas.DataFrame(data=data)\n",
        "    print(dataframe)\n",
        "\n",
        "\n",
        "def save_model(model, path):\n",
        "    checkpoint = {'epoch': epoch,'state_dict': model.state_dict(),'optimizer' : optimizer.state_dict(),'loss': loss_function}\n",
        "    torch.save(checkpoint, path)\n",
        "    pass\n",
        "\n",
        "\n",
        "def save_data(eval_data, path):\n",
        "    with open(path, 'wb') as wf:\n",
        "        pickle.dump(eval_data, wf)\n"
      ],
      "execution_count": 15,
      "outputs": []
    },
    {
      "cell_type": "markdown",
      "metadata": {
        "id": "PhbVzVLDsMi1"
      },
      "source": [
        "## 2.b. Define Model"
      ]
    },
    {
      "cell_type": "markdown",
      "metadata": {
        "id": "jrUKCNRgsMi1"
      },
      "source": [
        "Describe your model here."
      ]
    },
    {
      "cell_type": "code",
      "metadata": {
        "collapsed": true,
        "id": "ILB2fBRWsMi1"
      },
      "source": [
        "class NetTemplate1(nn.Module):\n",
        "    def __init__(self, input_dim, h1, h2, h3, output_dim):\n",
        "        super(NetTemplate1, self).__init__()\n",
        "        self.fc1 = nn.Linear(input_dim, h1)\n",
        "        self.fc2 = nn.Linear(h1, h2)\n",
        "        self.fc3 = nn.Linear(h2, h3)\n",
        "        self.fc4 = nn.Linear(h3, output_dim)\n",
        "\n",
        "    def forward(self, x):\n",
        "        # Forward pass\n",
        "        x = F.relu(self.fc1(x))\n",
        "        x = F.relu(self.fc2(x))\n",
        "        x = F.relu(self.fc3(x))\n",
        "        x = self.fc4(x)\n",
        "        return F.log_softmax(x)\n",
        "\n",
        "class NetTemplate2(nn.Module):\n",
        "    def __init__(self):\n",
        "        super(NetTemplate2, self).__init__()\n",
        "        self.conv1 = nn.Conv2d(1, 10, kernel_size=5)\n",
        "        self.conv2 = nn.Conv2d(10, 20, kernel_size=5)\n",
        "        self.conv2_drop = nn.Dropout2d()\n",
        "        self.fc1 = nn.Linear(320, 50)\n",
        "        self.fc2 = nn.Linear(50, 10)\n",
        "\n",
        "    def forward(self, x):\n",
        "        x = F.relu(F.max_pool2d(self.conv1(x), 2))\n",
        "        x = F.relu(F.max_pool2d(self.conv2_drop(self.conv2(x)), 2))\n",
        "        x = x.view(-1, 320)\n",
        "        x = F.relu(self.fc1(x))\n",
        "        x = F.dropout(x, training=self.training)\n",
        "        x = self.fc2(x)\n",
        "        return F.log_softmax(x)"
      ],
      "execution_count": 19,
      "outputs": []
    },
    {
      "cell_type": "markdown",
      "metadata": {
        "id": "QO1yPx7YsMi1"
      },
      "source": [
        "## 2.c. Set Hyperparameters"
      ]
    },
    {
      "cell_type": "code",
      "metadata": {
        "collapsed": true,
        "id": "0k0jLX5ksMi1"
      },
      "source": [
        "# Define your hyperparameters here\n",
        "\n",
        "in_dims = trainset[0][0].shape[0]\n",
        "out_dims = len(class_to_idx)\n",
        "h1, h2, h3 = 128, 128, 64\n",
        "out_dims = len(class_to_idx)\n",
        "\n",
        "# Optimization\n",
        "n_epochs = 30\n",
        "batch_size=16\n",
        "batch_size_train = 64\n",
        "batch_size_test = 1000\n",
        "learning_rate = 0.01\n",
        "momentum = 0.5\n",
        "log_interval = 10"
      ],
      "execution_count": 40,
      "outputs": []
    },
    {
      "cell_type": "markdown",
      "metadata": {
        "id": "NtpgVAO1sMi2"
      },
      "source": [
        "## 2.d. Train your Model"
      ]
    },
    {
      "cell_type": "code",
      "metadata": {
        "collapsed": true,
        "id": "Co0W2ifGsMi2"
      },
      "source": [
        "network1 = NetTemplate1(in_dims, h1, h2, h3, out_dims)\n",
        "network2 = NetTemplate2()\n",
        "\n",
        "optimizer1 = optim.SGD(network1.parameters(), lr=learning_rate,momentum=momentum)\n",
        "optimizer2 = optim.SGD(network2.parameters(), lr=learning_rate,momentum=momentum)\n",
        "\n",
        "train_loader = DataLoader(dataset = trainset, batch_size=batch_size, shuffle=True)\n",
        "test_loader = DataLoader(dataset = testset, batch_size=batch_size, shuffle=False)\n"
      ],
      "execution_count": 41,
      "outputs": []
    },
    {
      "cell_type": "code",
      "metadata": {
        "collapsed": true,
        "id": "3afVBWVKsMi2"
      },
      "source": [
        "predictions_1 = []\n",
        "targets_1 = []\n",
        "accuracies_1=[]\n",
        "train_losses_1 = []\n",
        "train_counter_1 = []\n",
        "test_losses_1 = []\n",
        "test_counter_1 = [i*len(train_loader.dataset) for i in range(n_epochs + 1)]\n",
        "\n",
        "def train1(epoch):\n",
        "  network1.train()\n",
        "  for batch_idx, (data, target) in enumerate(train_loader):\n",
        "    data = data.view(-1, in_dims)\n",
        "    optimizer1.zero_grad()\n",
        "    output = network1(data)\n",
        "    loss = F.nll_loss(output, target)\n",
        "    loss.backward()\n",
        "    optimizer1.step()\n",
        "    if batch_idx % log_interval == 0:\n",
        "      print('MLP Network: Train Epoch: {} [{}/{} ({:.0f}%)]\\tLoss: {:.6f}'.format(\n",
        "        epoch, batch_idx * len(data), len(train_loader.dataset),\n",
        "        100. * batch_idx / len(train_loader), loss.item()))\n",
        "      train_losses_1.append(loss.item())\n",
        "      train_counter_1.append(\n",
        "        (batch_idx*64) + ((epoch-1)*len(train_loader.dataset)))\n",
        "      \n",
        "\n",
        "def test1():\n",
        "  network1.eval()\n",
        "  test_loss = 0\n",
        "  correct = 0\n",
        "  with torch.no_grad():\n",
        "    for data, target in test_loader:\n",
        "      output = network1(data)\n",
        "      test_loss += F.nll_loss(output, target, size_average=False).item()\n",
        "      pred = output.data.max(1, keepdim=True)[1]\n",
        "      predictions_1.append(pred.data.to('cpu').numpy())\n",
        "      targets_1.append(target.data.to('cpu').numpy())\n",
        "      correct += pred.eq(target.data.view_as(pred)).sum()\n",
        "  test_loss /= len(test_loader.dataset)\n",
        "  accuracies_1.append(100 * (correct / len(test_loader.dataset)))\n",
        "  test_losses_1.append(test_loss)\n",
        "  print('\\n MLP Network: Test set: Avg. loss: {:.4f}, Accuracy: {}/{} ({:.0f}%)\\n'.format(\n",
        "    test_loss, correct, len(test_loader.dataset),\n",
        "    100. * correct / len(test_loader.dataset)))"
      ],
      "execution_count": 56,
      "outputs": []
    },
    {
      "cell_type": "code",
      "metadata": {
        "id": "xzEIK1iQDLLe"
      },
      "source": [
        "predictions_2 = []\n",
        "targets_2 = []\n",
        "accuracies_2=[]\n",
        "train_losses_2 = []\n",
        "train_counter_2 = []\n",
        "test_losses_2 = []\n",
        "test_counter_2 = [i*len(train_loader.dataset) for i in range(n_epochs + 1)]\n",
        "\n",
        "def train2(epoch):\n",
        "  network2.train()\n",
        "  for batch_idx, (data, target) in enumerate(train_loader):\n",
        "    data = data.view(-1, in_dims)\n",
        "    optimizer2.zero_grad()\n",
        "    output = network1(data)\n",
        "    loss = F.nll_loss(output, target)\n",
        "    loss.backward()\n",
        "    optimizer2.step()\n",
        "    if batch_idx % log_interval == 0:\n",
        "      print('CNN Network: Train Epoch: {} [{}/{} ({:.0f}%)]\\tLoss: {:.6f}'.format(\n",
        "        epoch, batch_idx * len(data), len(train_loader.dataset),\n",
        "        100. * batch_idx / len(train_loader), loss.item()))\n",
        "      train_losses_2.append(loss.item())\n",
        "      train_counter_2.append(\n",
        "        (batch_idx*64) + ((epoch-1)*len(train_loader.dataset)))\n",
        "      \n",
        "\n",
        "def test2():\n",
        "  network2.eval()\n",
        "  test_loss = 0\n",
        "  correct = 0\n",
        "  with torch.no_grad():\n",
        "    for data, target in test_loader:\n",
        "      output = network2(data)\n",
        "      test_loss += F.nll_loss(output, target, size_average=False).item()\n",
        "      pred = output.data.max(1, keepdim=True)[1]\n",
        "      predictions_2.append(pred.data.to('cpu').numpy())\n",
        "      targets_2.append(target.data.to('cpu').numpy())\n",
        "      correct += pred.eq(target.data.view_as(pred)).sum()\n",
        "  test_loss /= len(test_loader.dataset)\n",
        "  accuracies_2.append(100 * (correct / len(test_loader.dataset)))\n",
        "  test_losses_2.append(test_loss)\n",
        "  print('\\n CNN Network: Test set: Avg. loss: {:.4f}, Accuracy: {}/{} ({:.0f}%)\\n'.format(\n",
        "    test_loss, correct, len(test_loader.dataset),\n",
        "    100. * correct / len(test_loader.dataset)))"
      ],
      "execution_count": 57,
      "outputs": []
    },
    {
      "cell_type": "code",
      "metadata": {
        "id": "yYipW-8GDREU",
        "outputId": "21fcf2d8-c14b-44e2-a2c8-d01edc1ce958",
        "colab": {
          "base_uri": "https://localhost:8080/"
        }
      },
      "source": [
        "for epoch in range(1, n_epochs+1):\n",
        "    train1(epoch)\n",
        "    test1()\n",
        "    train2(epoch)\n",
        "    test2"
      ],
      "execution_count": 58,
      "outputs": [
        {
          "output_type": "stream",
          "name": "stderr",
          "text": [
            "/usr/local/lib/python3.7/dist-packages/ipykernel_launcher.py:15: UserWarning: Implicit dimension choice for log_softmax has been deprecated. Change the call to include dim=X as an argument.\n",
            "  from ipykernel import kernelapp as app\n",
            "/usr/local/lib/python3.7/dist-packages/torch/nn/_reduction.py:42: UserWarning: size_average and reduce args will be deprecated, please use reduction='sum' instead.\n",
            "  warnings.warn(warning.format(ret))\n"
          ]
        },
        {
          "output_type": "stream",
          "name": "stdout",
          "text": [
            "MLP Network: Train Epoch: 1 [0/160 (0%)]\tLoss: 0.672111\n",
            "\n",
            " MLP Network: Test set: Avg. loss: 0.7946, Accuracy: 30/40 (75%)\n",
            "\n",
            "CNN Network: Train Epoch: 1 [0/160 (0%)]\tLoss: 0.529448\n",
            "MLP Network: Train Epoch: 2 [0/160 (0%)]\tLoss: 0.581848\n",
            "\n",
            " MLP Network: Test set: Avg. loss: 0.8179, Accuracy: 27/40 (68%)\n",
            "\n",
            "CNN Network: Train Epoch: 2 [0/160 (0%)]\tLoss: 0.394880\n",
            "MLP Network: Train Epoch: 3 [0/160 (0%)]\tLoss: 0.950236\n",
            "\n",
            " MLP Network: Test set: Avg. loss: 0.7598, Accuracy: 31/40 (78%)\n",
            "\n",
            "CNN Network: Train Epoch: 3 [0/160 (0%)]\tLoss: 0.489193\n",
            "MLP Network: Train Epoch: 4 [0/160 (0%)]\tLoss: 0.477034\n",
            "\n",
            " MLP Network: Test set: Avg. loss: 0.8236, Accuracy: 30/40 (75%)\n",
            "\n",
            "CNN Network: Train Epoch: 4 [0/160 (0%)]\tLoss: 0.353329\n",
            "MLP Network: Train Epoch: 5 [0/160 (0%)]\tLoss: 0.521022\n",
            "\n",
            " MLP Network: Test set: Avg. loss: 0.7796, Accuracy: 28/40 (70%)\n",
            "\n",
            "CNN Network: Train Epoch: 5 [0/160 (0%)]\tLoss: 0.672579\n",
            "MLP Network: Train Epoch: 6 [0/160 (0%)]\tLoss: 0.917873\n",
            "\n",
            " MLP Network: Test set: Avg. loss: 0.7532, Accuracy: 32/40 (80%)\n",
            "\n",
            "CNN Network: Train Epoch: 6 [0/160 (0%)]\tLoss: 0.651944\n",
            "MLP Network: Train Epoch: 7 [0/160 (0%)]\tLoss: 0.792670\n",
            "\n",
            " MLP Network: Test set: Avg. loss: 0.8075, Accuracy: 30/40 (75%)\n",
            "\n",
            "CNN Network: Train Epoch: 7 [0/160 (0%)]\tLoss: 0.834227\n",
            "MLP Network: Train Epoch: 8 [0/160 (0%)]\tLoss: 0.613857\n",
            "\n",
            " MLP Network: Test set: Avg. loss: 0.7885, Accuracy: 29/40 (72%)\n",
            "\n",
            "CNN Network: Train Epoch: 8 [0/160 (0%)]\tLoss: 0.818479\n",
            "MLP Network: Train Epoch: 9 [0/160 (0%)]\tLoss: 0.451780\n",
            "\n",
            " MLP Network: Test set: Avg. loss: 0.8604, Accuracy: 27/40 (68%)\n",
            "\n",
            "CNN Network: Train Epoch: 9 [0/160 (0%)]\tLoss: 0.536128\n",
            "MLP Network: Train Epoch: 10 [0/160 (0%)]\tLoss: 1.142313\n",
            "\n",
            " MLP Network: Test set: Avg. loss: 0.7924, Accuracy: 30/40 (75%)\n",
            "\n",
            "CNN Network: Train Epoch: 10 [0/160 (0%)]\tLoss: 0.647975\n",
            "MLP Network: Train Epoch: 11 [0/160 (0%)]\tLoss: 0.410792\n",
            "\n",
            " MLP Network: Test set: Avg. loss: 0.8103, Accuracy: 31/40 (78%)\n",
            "\n",
            "CNN Network: Train Epoch: 11 [0/160 (0%)]\tLoss: 0.258897\n",
            "MLP Network: Train Epoch: 12 [0/160 (0%)]\tLoss: 0.790468\n",
            "\n",
            " MLP Network: Test set: Avg. loss: 0.7539, Accuracy: 31/40 (78%)\n",
            "\n",
            "CNN Network: Train Epoch: 12 [0/160 (0%)]\tLoss: 0.867582\n",
            "MLP Network: Train Epoch: 13 [0/160 (0%)]\tLoss: 0.320682\n",
            "\n",
            " MLP Network: Test set: Avg. loss: 0.8681, Accuracy: 31/40 (78%)\n",
            "\n",
            "CNN Network: Train Epoch: 13 [0/160 (0%)]\tLoss: 0.407756\n",
            "MLP Network: Train Epoch: 14 [0/160 (0%)]\tLoss: 0.649455\n",
            "\n",
            " MLP Network: Test set: Avg. loss: 0.7866, Accuracy: 30/40 (75%)\n",
            "\n",
            "CNN Network: Train Epoch: 14 [0/160 (0%)]\tLoss: 0.472870\n",
            "MLP Network: Train Epoch: 15 [0/160 (0%)]\tLoss: 0.625019\n",
            "\n",
            " MLP Network: Test set: Avg. loss: 0.8337, Accuracy: 28/40 (70%)\n",
            "\n",
            "CNN Network: Train Epoch: 15 [0/160 (0%)]\tLoss: 0.905846\n",
            "MLP Network: Train Epoch: 16 [0/160 (0%)]\tLoss: 0.404296\n",
            "\n",
            " MLP Network: Test set: Avg. loss: 0.8190, Accuracy: 29/40 (72%)\n",
            "\n",
            "CNN Network: Train Epoch: 16 [0/160 (0%)]\tLoss: 0.662644\n",
            "MLP Network: Train Epoch: 17 [0/160 (0%)]\tLoss: 0.400907\n",
            "\n",
            " MLP Network: Test set: Avg. loss: 0.8279, Accuracy: 31/40 (78%)\n",
            "\n",
            "CNN Network: Train Epoch: 17 [0/160 (0%)]\tLoss: 0.307623\n",
            "MLP Network: Train Epoch: 18 [0/160 (0%)]\tLoss: 0.483142\n",
            "\n",
            " MLP Network: Test set: Avg. loss: 0.8271, Accuracy: 30/40 (75%)\n",
            "\n",
            "CNN Network: Train Epoch: 18 [0/160 (0%)]\tLoss: 0.609428\n",
            "MLP Network: Train Epoch: 19 [0/160 (0%)]\tLoss: 0.415589\n",
            "\n",
            " MLP Network: Test set: Avg. loss: 0.7588, Accuracy: 30/40 (75%)\n",
            "\n",
            "CNN Network: Train Epoch: 19 [0/160 (0%)]\tLoss: 0.216957\n",
            "MLP Network: Train Epoch: 20 [0/160 (0%)]\tLoss: 0.452797\n",
            "\n",
            " MLP Network: Test set: Avg. loss: 0.7836, Accuracy: 31/40 (78%)\n",
            "\n",
            "CNN Network: Train Epoch: 20 [0/160 (0%)]\tLoss: 0.505432\n",
            "MLP Network: Train Epoch: 21 [0/160 (0%)]\tLoss: 0.402635\n",
            "\n",
            " MLP Network: Test set: Avg. loss: 0.8236, Accuracy: 29/40 (72%)\n",
            "\n",
            "CNN Network: Train Epoch: 21 [0/160 (0%)]\tLoss: 0.648406\n",
            "MLP Network: Train Epoch: 22 [0/160 (0%)]\tLoss: 0.533557\n",
            "\n",
            " MLP Network: Test set: Avg. loss: 0.8928, Accuracy: 29/40 (72%)\n",
            "\n",
            "CNN Network: Train Epoch: 22 [0/160 (0%)]\tLoss: 0.524037\n",
            "MLP Network: Train Epoch: 23 [0/160 (0%)]\tLoss: 0.495717\n",
            "\n",
            " MLP Network: Test set: Avg. loss: 0.8183, Accuracy: 30/40 (75%)\n",
            "\n",
            "CNN Network: Train Epoch: 23 [0/160 (0%)]\tLoss: 0.477128\n",
            "MLP Network: Train Epoch: 24 [0/160 (0%)]\tLoss: 0.604210\n",
            "\n",
            " MLP Network: Test set: Avg. loss: 0.8376, Accuracy: 30/40 (75%)\n",
            "\n",
            "CNN Network: Train Epoch: 24 [0/160 (0%)]\tLoss: 0.715459\n",
            "MLP Network: Train Epoch: 25 [0/160 (0%)]\tLoss: 0.546913\n",
            "\n",
            " MLP Network: Test set: Avg. loss: 0.8802, Accuracy: 29/40 (72%)\n",
            "\n",
            "CNN Network: Train Epoch: 25 [0/160 (0%)]\tLoss: 0.632714\n",
            "MLP Network: Train Epoch: 26 [0/160 (0%)]\tLoss: 0.796188\n",
            "\n",
            " MLP Network: Test set: Avg. loss: 0.8176, Accuracy: 31/40 (78%)\n",
            "\n",
            "CNN Network: Train Epoch: 26 [0/160 (0%)]\tLoss: 0.475471\n",
            "MLP Network: Train Epoch: 27 [0/160 (0%)]\tLoss: 0.437649\n",
            "\n",
            " MLP Network: Test set: Avg. loss: 0.8504, Accuracy: 30/40 (75%)\n",
            "\n",
            "CNN Network: Train Epoch: 27 [0/160 (0%)]\tLoss: 0.577426\n",
            "MLP Network: Train Epoch: 28 [0/160 (0%)]\tLoss: 0.337219\n",
            "\n",
            " MLP Network: Test set: Avg. loss: 0.8681, Accuracy: 28/40 (70%)\n",
            "\n",
            "CNN Network: Train Epoch: 28 [0/160 (0%)]\tLoss: 0.501333\n",
            "MLP Network: Train Epoch: 29 [0/160 (0%)]\tLoss: 0.311669\n",
            "\n",
            " MLP Network: Test set: Avg. loss: 0.8959, Accuracy: 30/40 (75%)\n",
            "\n",
            "CNN Network: Train Epoch: 29 [0/160 (0%)]\tLoss: 0.666993\n",
            "MLP Network: Train Epoch: 30 [0/160 (0%)]\tLoss: 0.277821\n",
            "\n",
            " MLP Network: Test set: Avg. loss: 0.9306, Accuracy: 28/40 (70%)\n",
            "\n",
            "CNN Network: Train Epoch: 30 [0/160 (0%)]\tLoss: 0.795698\n"
          ]
        }
      ]
    },
    {
      "cell_type": "markdown",
      "metadata": {
        "id": "Z5w-7O5jsMi2"
      },
      "source": [
        "## 2.e. Evaluate model"
      ]
    },
    {
      "cell_type": "code",
      "metadata": {
        "collapsed": true,
        "id": "CMbzX1h4sMi2",
        "outputId": "59052694-f7e9-46c4-fb3a-6a0bafbc4fbe",
        "colab": {
          "base_uri": "https://localhost:8080/",
          "height": 628
        }
      },
      "source": [
        "plt.plot(train_counter_1, train_losses_1, color='blue')\n",
        "plt.plot(len(test_losses_1), test_losses_1, color='red')\n",
        "plt.legend(['Loss Per Epoch - Optimizer (SGD),', 'Test Loss'], loc='upper right')\n",
        "plt.xlabel('#Training Data Processed')\n",
        "plt.ylabel('Negative Log Likelihood Loss')\n",
        "plt.show()\n",
        "\n",
        "precision_1, recall_1, f1_scores_1 = evaluate_preds(predictions_1, targets_1)\n",
        "visualize_evaluation(class_to_idx, precision_1, recall_1, f1_scores_1)"
      ],
      "execution_count": 59,
      "outputs": [
        {
          "output_type": "error",
          "ename": "ValueError",
          "evalue": "ignored",
          "traceback": [
            "\u001b[0;31m---------------------------------------------------------------------------\u001b[0m",
            "\u001b[0;31mValueError\u001b[0m                                Traceback (most recent call last)",
            "\u001b[0;32m<ipython-input-59-66ce72ab56bb>\u001b[0m in \u001b[0;36m<module>\u001b[0;34m()\u001b[0m\n\u001b[1;32m      1\u001b[0m \u001b[0mplt\u001b[0m\u001b[0;34m.\u001b[0m\u001b[0mplot\u001b[0m\u001b[0;34m(\u001b[0m\u001b[0mtrain_counter_1\u001b[0m\u001b[0;34m,\u001b[0m \u001b[0mtrain_losses_1\u001b[0m\u001b[0;34m,\u001b[0m \u001b[0mcolor\u001b[0m\u001b[0;34m=\u001b[0m\u001b[0;34m'blue'\u001b[0m\u001b[0;34m)\u001b[0m\u001b[0;34m\u001b[0m\u001b[0;34m\u001b[0m\u001b[0m\n\u001b[0;32m----> 2\u001b[0;31m \u001b[0mplt\u001b[0m\u001b[0;34m.\u001b[0m\u001b[0mplot\u001b[0m\u001b[0;34m(\u001b[0m\u001b[0mlen\u001b[0m\u001b[0;34m(\u001b[0m\u001b[0mtest_losses_1\u001b[0m\u001b[0;34m)\u001b[0m\u001b[0;34m,\u001b[0m \u001b[0mtest_losses_1\u001b[0m\u001b[0;34m,\u001b[0m \u001b[0mcolor\u001b[0m\u001b[0;34m=\u001b[0m\u001b[0;34m'red'\u001b[0m\u001b[0;34m)\u001b[0m\u001b[0;34m\u001b[0m\u001b[0;34m\u001b[0m\u001b[0m\n\u001b[0m\u001b[1;32m      3\u001b[0m \u001b[0mplt\u001b[0m\u001b[0;34m.\u001b[0m\u001b[0mlegend\u001b[0m\u001b[0;34m(\u001b[0m\u001b[0;34m[\u001b[0m\u001b[0;34m'Loss Per Epoch - Optimizer (SGD),'\u001b[0m\u001b[0;34m,\u001b[0m \u001b[0;34m'Test Loss'\u001b[0m\u001b[0;34m]\u001b[0m\u001b[0;34m,\u001b[0m \u001b[0mloc\u001b[0m\u001b[0;34m=\u001b[0m\u001b[0;34m'upper right'\u001b[0m\u001b[0;34m)\u001b[0m\u001b[0;34m\u001b[0m\u001b[0;34m\u001b[0m\u001b[0m\n\u001b[1;32m      4\u001b[0m \u001b[0mplt\u001b[0m\u001b[0;34m.\u001b[0m\u001b[0mxlabel\u001b[0m\u001b[0;34m(\u001b[0m\u001b[0;34m'#Training Data Processed'\u001b[0m\u001b[0;34m)\u001b[0m\u001b[0;34m\u001b[0m\u001b[0;34m\u001b[0m\u001b[0m\n\u001b[1;32m      5\u001b[0m \u001b[0mplt\u001b[0m\u001b[0;34m.\u001b[0m\u001b[0mylabel\u001b[0m\u001b[0;34m(\u001b[0m\u001b[0;34m'Negative Log Likelihood Loss'\u001b[0m\u001b[0;34m)\u001b[0m\u001b[0;34m\u001b[0m\u001b[0;34m\u001b[0m\u001b[0m\n",
            "\u001b[0;32m/usr/local/lib/python3.7/dist-packages/matplotlib/pyplot.py\u001b[0m in \u001b[0;36mplot\u001b[0;34m(scalex, scaley, data, *args, **kwargs)\u001b[0m\n\u001b[1;32m   2761\u001b[0m     return gca().plot(\n\u001b[1;32m   2762\u001b[0m         *args, scalex=scalex, scaley=scaley, **({\"data\": data} if data\n\u001b[0;32m-> 2763\u001b[0;31m         is not None else {}), **kwargs)\n\u001b[0m\u001b[1;32m   2764\u001b[0m \u001b[0;34m\u001b[0m\u001b[0m\n\u001b[1;32m   2765\u001b[0m \u001b[0;34m\u001b[0m\u001b[0m\n",
            "\u001b[0;32m/usr/local/lib/python3.7/dist-packages/matplotlib/axes/_axes.py\u001b[0m in \u001b[0;36mplot\u001b[0;34m(self, scalex, scaley, data, *args, **kwargs)\u001b[0m\n\u001b[1;32m   1645\u001b[0m         \"\"\"\n\u001b[1;32m   1646\u001b[0m         \u001b[0mkwargs\u001b[0m \u001b[0;34m=\u001b[0m \u001b[0mcbook\u001b[0m\u001b[0;34m.\u001b[0m\u001b[0mnormalize_kwargs\u001b[0m\u001b[0;34m(\u001b[0m\u001b[0mkwargs\u001b[0m\u001b[0;34m,\u001b[0m \u001b[0mmlines\u001b[0m\u001b[0;34m.\u001b[0m\u001b[0mLine2D\u001b[0m\u001b[0;34m)\u001b[0m\u001b[0;34m\u001b[0m\u001b[0;34m\u001b[0m\u001b[0m\n\u001b[0;32m-> 1647\u001b[0;31m         \u001b[0mlines\u001b[0m \u001b[0;34m=\u001b[0m \u001b[0;34m[\u001b[0m\u001b[0;34m*\u001b[0m\u001b[0mself\u001b[0m\u001b[0;34m.\u001b[0m\u001b[0m_get_lines\u001b[0m\u001b[0;34m(\u001b[0m\u001b[0;34m*\u001b[0m\u001b[0margs\u001b[0m\u001b[0;34m,\u001b[0m \u001b[0mdata\u001b[0m\u001b[0;34m=\u001b[0m\u001b[0mdata\u001b[0m\u001b[0;34m,\u001b[0m \u001b[0;34m**\u001b[0m\u001b[0mkwargs\u001b[0m\u001b[0;34m)\u001b[0m\u001b[0;34m]\u001b[0m\u001b[0;34m\u001b[0m\u001b[0;34m\u001b[0m\u001b[0m\n\u001b[0m\u001b[1;32m   1648\u001b[0m         \u001b[0;32mfor\u001b[0m \u001b[0mline\u001b[0m \u001b[0;32min\u001b[0m \u001b[0mlines\u001b[0m\u001b[0;34m:\u001b[0m\u001b[0;34m\u001b[0m\u001b[0;34m\u001b[0m\u001b[0m\n\u001b[1;32m   1649\u001b[0m             \u001b[0mself\u001b[0m\u001b[0;34m.\u001b[0m\u001b[0madd_line\u001b[0m\u001b[0;34m(\u001b[0m\u001b[0mline\u001b[0m\u001b[0;34m)\u001b[0m\u001b[0;34m\u001b[0m\u001b[0;34m\u001b[0m\u001b[0m\n",
            "\u001b[0;32m/usr/local/lib/python3.7/dist-packages/matplotlib/axes/_base.py\u001b[0m in \u001b[0;36m__call__\u001b[0;34m(self, *args, **kwargs)\u001b[0m\n\u001b[1;32m    214\u001b[0m                 \u001b[0mthis\u001b[0m \u001b[0;34m+=\u001b[0m \u001b[0margs\u001b[0m\u001b[0;34m[\u001b[0m\u001b[0;36m0\u001b[0m\u001b[0;34m]\u001b[0m\u001b[0;34m,\u001b[0m\u001b[0;34m\u001b[0m\u001b[0;34m\u001b[0m\u001b[0m\n\u001b[1;32m    215\u001b[0m                 \u001b[0margs\u001b[0m \u001b[0;34m=\u001b[0m \u001b[0margs\u001b[0m\u001b[0;34m[\u001b[0m\u001b[0;36m1\u001b[0m\u001b[0;34m:\u001b[0m\u001b[0;34m]\u001b[0m\u001b[0;34m\u001b[0m\u001b[0;34m\u001b[0m\u001b[0m\n\u001b[0;32m--> 216\u001b[0;31m             \u001b[0;32myield\u001b[0m \u001b[0;32mfrom\u001b[0m \u001b[0mself\u001b[0m\u001b[0;34m.\u001b[0m\u001b[0m_plot_args\u001b[0m\u001b[0;34m(\u001b[0m\u001b[0mthis\u001b[0m\u001b[0;34m,\u001b[0m \u001b[0mkwargs\u001b[0m\u001b[0;34m)\u001b[0m\u001b[0;34m\u001b[0m\u001b[0;34m\u001b[0m\u001b[0m\n\u001b[0m\u001b[1;32m    217\u001b[0m \u001b[0;34m\u001b[0m\u001b[0m\n\u001b[1;32m    218\u001b[0m     \u001b[0;32mdef\u001b[0m \u001b[0mget_next_color\u001b[0m\u001b[0;34m(\u001b[0m\u001b[0mself\u001b[0m\u001b[0;34m)\u001b[0m\u001b[0;34m:\u001b[0m\u001b[0;34m\u001b[0m\u001b[0;34m\u001b[0m\u001b[0m\n",
            "\u001b[0;32m/usr/local/lib/python3.7/dist-packages/matplotlib/axes/_base.py\u001b[0m in \u001b[0;36m_plot_args\u001b[0;34m(self, tup, kwargs)\u001b[0m\n\u001b[1;32m    340\u001b[0m \u001b[0;34m\u001b[0m\u001b[0m\n\u001b[1;32m    341\u001b[0m         \u001b[0;32mif\u001b[0m \u001b[0mx\u001b[0m\u001b[0;34m.\u001b[0m\u001b[0mshape\u001b[0m\u001b[0;34m[\u001b[0m\u001b[0;36m0\u001b[0m\u001b[0;34m]\u001b[0m \u001b[0;34m!=\u001b[0m \u001b[0my\u001b[0m\u001b[0;34m.\u001b[0m\u001b[0mshape\u001b[0m\u001b[0;34m[\u001b[0m\u001b[0;36m0\u001b[0m\u001b[0;34m]\u001b[0m\u001b[0;34m:\u001b[0m\u001b[0;34m\u001b[0m\u001b[0;34m\u001b[0m\u001b[0m\n\u001b[0;32m--> 342\u001b[0;31m             raise ValueError(f\"x and y must have same first dimension, but \"\n\u001b[0m\u001b[1;32m    343\u001b[0m                              f\"have shapes {x.shape} and {y.shape}\")\n\u001b[1;32m    344\u001b[0m         \u001b[0;32mif\u001b[0m \u001b[0mx\u001b[0m\u001b[0;34m.\u001b[0m\u001b[0mndim\u001b[0m \u001b[0;34m>\u001b[0m \u001b[0;36m2\u001b[0m \u001b[0;32mor\u001b[0m \u001b[0my\u001b[0m\u001b[0;34m.\u001b[0m\u001b[0mndim\u001b[0m \u001b[0;34m>\u001b[0m \u001b[0;36m2\u001b[0m\u001b[0;34m:\u001b[0m\u001b[0;34m\u001b[0m\u001b[0;34m\u001b[0m\u001b[0m\n",
            "\u001b[0;31mValueError\u001b[0m: x and y must have same first dimension, but have shapes (1,) and (30,)"
          ]
        },
        {
          "output_type": "display_data",
          "data": {
            "image/png": "[encoded data removed]",
            "text/plain": [
              "<Figure size 432x288 with 1 Axes>"
            ]
          },
          "metadata": {
            "needs_background": "light"
          }
        }
      ]
    },
    {
      "cell_type": "code",
      "metadata": {
        "id": "zcAImLLdDeVM"
      },
      "source": [
        "plt.plot(train_counter_2, train_losses_2, color='blue')\n",
        "plt.plot(len(test_losses_2), test_losses_2, color='red')\n",
        "plt.legend(['Loss Per Epoch - Optimizer (SGD),', 'Test Loss'], loc='upper right')\n",
        "plt.xlabel('#Training Data Processed')\n",
        "plt.ylabel('Negative Log Likelihood Loss')\n",
        "plt.show()\n",
        "\n",
        "precision_2, recall_2, f1_scores_2 = evaluate_preds(predictions_2, targets_2)\n",
        "visualize_evaluation(class_to_idx, precision_2, recall_2, f1_scores_2)"
      ],
      "execution_count": null,
      "outputs": []
    },
    {
      "cell_type": "markdown",
      "metadata": {
        "id": "U_GE1BQjsMi3"
      },
      "source": [
        "## 2.f. Save Model + Data"
      ]
    },
    {
      "cell_type": "code",
      "metadata": {
        "collapsed": true,
        "id": "4Xvo--GIsMi3"
      },
      "source": [
        "expt_name_1 = 'mlp_model_sgd'\n",
        "\n",
        "model_out_path_1 = '{}.checkpoint.pth'.format(expt_name)\n",
        "save_model(network1, model_out_path_1)\n",
        "\n",
        "eval_data_1 = {\n",
        "    'epoch': n_epochs,\n",
        "    'train_loss': train_losses,\n",
        "    'test_loss': test_losses,\n",
        "    'train_acc': [],\n",
        "    'test_acc': test_accuracies\n",
        "}\n",
        "eval_out_path_1 = '{}.eval.pickle'.format(expt_name_1)\n",
        "save_data(eval_data_1, eval_out_path_1)"
      ],
      "execution_count": null,
      "outputs": []
    },
    {
      "cell_type": "code",
      "metadata": {
        "id": "gt8lUM1GDhOS"
      },
      "source": [
        "expt_name_2 = 'cnn_model_sgd'\n",
        "\n",
        "model_out_path_2 = '{}.checkpoint.pth'.format(expt_name)\n",
        "save_model(network2, model_out_path_2)\n",
        "\n",
        "eval_data_2 = {\n",
        "    'epoch': n_epochs,\n",
        "    'train_loss': train_losses,\n",
        "    'test_loss': test_losses,\n",
        "    'train_acc': [],\n",
        "    'test_acc': test_accuracies\n",
        "}\n",
        "eval_out_path_2 = '{}.eval.pickle'.format(expt_name_2)\n",
        "save_data(eval_data_2, eval_out_path_2)"
      ],
      "execution_count": null,
      "outputs": []
    },
    {
      "cell_type": "markdown",
      "metadata": {
        "id": "W-UQbfCrsMi3"
      },
      "source": [
        "---"
      ]
    },
    {
      "cell_type": "markdown",
      "metadata": {
        "id": "uLD6dur1sMi3"
      },
      "source": [
        "# 3. Analysis"
      ]
    },
    {
      "cell_type": "markdown",
      "metadata": {
        "id": "1QRKxLsPsMi3"
      },
      "source": [
        "## 3.a. Summary: Main Results\n",
        "\n",
        "Summarize your approach and results here"
      ]
    },
    {
      "cell_type": "markdown",
      "metadata": {
        "collapsed": true,
        "id": "dNKqJAoasMi4"
      },
      "source": [
        "## 3.b. Discussion\n",
        "\n",
        "Enter your final summary here.\n",
        "\n",
        "For instance, you can address:\n",
        "- What was the performance you obtained with the simplest approach?\n",
        "- Which vectorized input representations helped more than the others?\n",
        "- Which malwares are difficult to detect and why?\n",
        "- Which approach do you recommend to perform malware classification?"
      ]
    },
    {
      "cell_type": "code",
      "metadata": {
        "collapsed": true,
        "id": "xYGR9ID1sMi4"
      },
      "source": [
        ""
      ],
      "execution_count": null,
      "outputs": []
    }
  ]
}